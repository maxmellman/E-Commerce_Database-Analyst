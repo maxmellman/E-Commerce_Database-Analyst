{
 "cells": [
  {
   "cell_type": "markdown",
   "metadata": {},
   "source": [
    "# Conversion Rate Analysis"
   ]
  },
  {
   "cell_type": "markdown",
   "metadata": {},
   "source": [
    "#Key Question 1:\n",
    "I'd like to see the website performance over the course of the first twelve months. What's the percentage change in session to order conversation rate (CVR) on a monthly basis? "
   ]
  },
  {
   "cell_type": "markdown",
   "metadata": {},
   "source": [
    "<img src=\"Images/13A-window_function.PNG\" width=\"50%\" />"
   ]
  },
  {
   "cell_type": "markdown",
   "metadata": {},
   "source": [
    "I’ll first grab the 'created_at' column to organize my data at the monthly level. Then call the 'count' function to aggregate the 'website_session_id' column. Since I want to know the CVR between session to order I left joined the 'orders' table and aggregated the 'order_id' column and continued to calculate the monthly CVR accordingly. I also need to calculate the percentage change from month to month, so I'll use a 'window' function on the 'conversion_rate' column to grab the previous month's conversation rate and create a new column containing those prior monthly rates. "
   ]
  },
  {
   "cell_type": "markdown",
   "metadata": {},
   "source": [
    "<img src=\"Images/13B-window_funct.PNG\" width='50%' />"
   ]
  },
  {
   "cell_type": "markdown",
   "metadata": {},
   "source": [
    "Lastly, both columns I need to calculate monthly percentage change are synched together by row, so I can now calculate the percentage change in CVR from month to month. \n",
    "\n",
    "#Conclusion:\n",
    "In the month of June and September, increases in CVR by 22% and 17% respectively were realized. These finding will frame the rest of my analysis."
   ]
  }
 ],
 "metadata": {
  "kernelspec": {
   "display_name": "Python 3",
   "language": "python",
   "name": "python3"
  },
  "language_info": {
   "codemirror_mode": {
    "name": "ipython",
    "version": 3
   },
   "file_extension": ".py",
   "mimetype": "text/x-python",
   "name": "python",
   "nbconvert_exporter": "python",
   "pygments_lexer": "ipython3",
   "version": "3.8.5"
  }
 },
 "nbformat": 4,
 "nbformat_minor": 4
}
