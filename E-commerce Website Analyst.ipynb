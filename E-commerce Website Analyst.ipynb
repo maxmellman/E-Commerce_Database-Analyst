{
 "cells": [
  {
   "cell_type": "markdown",
   "metadata": {},
   "source": [
    "# Conversion Rate Analysis"
   ]
  },
  {
   "cell_type": "markdown",
   "metadata": {},
   "source": [
    "# Key Question 1:\n",
    "I'd like to see the website performance over the course of the first twelve months. What's the percentage change in session to order conversation rate (CVR) on a monthly basis? "
   ]
  },
  {
   "cell_type": "markdown",
   "metadata": {},
   "source": [
    "<img src=\"Images/13A-window_function.PNG\" width=\"50%\" />"
   ]
  },
  {
   "cell_type": "markdown",
   "metadata": {},
   "source": [
    "I’ll first grab the 'created_at' column to organize my data at the monthly level. Then call the 'count' function to aggregate the 'website_session_id' column. Since I want to know the CVR between session to order I left joined the 'orders' table and aggregated the 'order_id' column and continued to calculate the monthly CVR accordingly. I also need to calculate the percentage change from month to month, so I'll use a 'window' function on the 'conversion_rate' column to grab the previous month's conversation rate and create a new column containing those prior monthly rates. "
   ]
  },
  {
   "cell_type": "markdown",
   "metadata": {},
   "source": [
    "<img src=\"Images/13B-window_funct.PNG\" width='50%' />"
   ]
  },
  {
   "cell_type": "markdown",
   "metadata": {},
   "source": [
    "Lastly, both columns I need to calculate monthly percentage change are synched together by row, so I can now calculate the percentage change in CVR from month to month. \n",
    "\n",
    "# Conclusion:\n",
    "In the month of June and September, increases in CVR by 22% and 17% respectively were realized. These finding will frame the rest of my analysis."
   ]
  },
  {
   "cell_type": "markdown",
   "metadata": {},
   "source": [
    "# TRAFFIC SOURCE ANALYSIS"
   ]
  },
  {
   "cell_type": "markdown",
   "metadata": {},
   "source": [
    "I'd like to get a better understanding of the website design so I'll examine the existing pages limiting my query to the first year.\n",
    "<img src=\"Images/AAA2.PNG\" width='50%' />\n",
    "It appears the site introduced two new pages, '/lander-1' and '/billing-2'. Usually a new landing page indicates an attempt to reduce a high bounce rate on the site and improve quality traffic. Additionally, a new billing page indicates an attempt to increase orders and improve the overall experience for the user. I'll base my analysis on the reasons for these additions. "
   ]
  },
  {
   "cell_type": "markdown",
   "metadata": {},
   "source": [
    "# Key Question 2: \n",
    "This website has paid traffic and organic traffic as evidenced by the ‘utm_campaign’ and ‘utm_source’ columns. Generally changes in web traffic to a site can be marked by the way a company decides to spend on paid search. I’d like to know where the bulk of the website traffic is coming from and what the CVR is for those sessions?\n",
    "<img src=\"Images/1-Bulk_Traffic_Source.PNG\" width='50%' />\n",
    "I’ll perform a ‘count’ aggregation on the 'website_session_id' column and group by source, campaign, and referrer.\n",
    "\n",
    "# Conclusion:\n",
    "<p style=\"font-size: 20px;font-family: sans-serif;\">Users searching with 'gsearch' through the 'nonbrand' campaign produced the most traffic by a significant margin compared to the other paid and organic traffic (‘null’ data). I’ll use these conditions in my ‘where’ clause for the majority of my future queries since this represents the most pertinent source of traffic to the site.</p>"
   ]
  },
  {
   "cell_type": "markdown",
   "metadata": {},
   "source": [
    "# TRAFFIC SOURCE TRENDING\n",
    "Since this traffic represents the most pertinent to my analysis, I’d like to know what the gsearch nonbrand trended session volume is by week? I’ll create a date range of approximately two months starting from the earliest date.\n",
    "<img src=\"Images/3-bid_changes_traffic.PNG\" width='50%' />\n",
    "Conclusion: Based on this query, it looks like gsearch nonbrand session volume saw a reduction in volume traffic by nearly 50%. "
   ]
  },
  {
   "cell_type": "markdown",
   "metadata": {},
   "source": [
    "# TRAFFIC CONVERSION RATES\n",
    "# Key Question 3:\n",
    "How well is ‘gsearch’/’nonbrand’ traffic driving sales? \n",
    "\n",
    "I’ll examine the weekly CVR based on a date range from where the drop off in session volume occurred, around mid-April.\n",
    "<img src=\"Images/2-Session_to_order_cvr.PNG\" width='75%' />\n",
    "From the ‘website_sessions’ table, I’ll left join the ‘orders’ table and aggregate both columns to calculate a CVR to understand how much revenue the paid campaigns are driving.\n",
    "# Conclusion: \n",
    "A conversion rate of 2.9% for paid traffic was perhaps too low for a new business looking for a higher ROI. Unlike a mature retail business with economies of scale that can withstand lower ROI if future earnings can be realized, a newer business needs to see greater return on their investments since their forecast models are more susceptible to change. Obviously, ROI requirements vary drastically based on the industry being examined.\n",
    "\n",
    "Regarding cost per click, a low conversion rate can lead to a reduction in bids for a campaign and ultimately lead to lower traffic thus the near 50% reduction in traffic volume. With sessions decreasing, an increase in CVR should result. Ultimately, companies want maximum volume, but don’t want to spend more on ads than what's necessary. Companies need to see a positive ROI to ensure their campaign is a worthwhile endeavor. "
   ]
  },
  {
   "cell_type": "markdown",
   "metadata": {},
   "source": [
    "# TRAFFIC SOURCE SEGMENT TRENDING\n",
    "# Key Question 4:\n",
    "Since examining the changes in weekly trended sessions volume for ‘gsearch’ ‘nonbrand’ traffic led to insights on CVR, I’d like to pull the weekly trends for both desktop and mobile to see if there are any patterns in session volume that would indicate bid changes due to undesirable CVR. \n",
    "\n",
    "I'll start with a date range from mid-April to early June.\n",
    "<img src=\"Images/5-traffic_source_segment_trending.PNG\" width='75%' />\n",
    "# Conclusion:\n",
    "It looks like mobile has been pretty flat to down in session volume, but desktop started increasing in volume in late-May. This could be due to bid changes made based on conversion analysis. "
   ]
  },
  {
   "cell_type": "markdown",
   "metadata": {},
   "source": [
    "# TRAFFIC SOURCE BID OPTIMATIZATION\n",
    "# KEY QUESTION 5:\n",
    "Session volume for desktop started to trend noticeably higher in late-May, so I’d like to know what the CVR was for both device types before that shift in session volume occurred? Perhaps that will reveal the reason for the change in session volumes.\n",
    "<img src=\"Images/4-conv_rate_device_type.PNG\" width='75%' />\n",
    "# Conclusion:\n",
    "Desktop performance is significantly better than on mobile. This is a crucial insight that most likely caused the jump in paid traffic for desktop. As a result, the company optimizes spend to increase sales on their platform.\n"
   ]
  },
  {
   "cell_type": "markdown",
   "metadata": {},
   "source": [
    "# IDENTIFYING TOP WEBSITE AND LANDING PAGES\n",
    "# Key Question 6:\n",
    "I’d like to know more about the performance of the website pages before the ‘lander-1’ landing page was introduced in mid-June. First, what were the most viewed website pages? And second, what are the top landing pages if there are more than just the home page? \n",
    "<img src=\"Images/6-Identifying_top_website_pages.PNG\" width='50%' />\n",
    "# Conclusion:\n",
    "It appears the homepage, the products page, and the Mr. Fuzzy page get the bulk of traffic.\n",
    "\n",
    "Next, I'll pull all entry pages and rank them on entry volume. I want to confirm where most of the sessions are hitting the site. I assume it would be the home page but I must query to be sure. To find top entry pages, I’ll limit to just the first page a user sees during a given session by using the ‘min’ function on the ‘website_pageview_id’ column. For clarity, I’ll create a temporary table that isolates just the first ‘website_pageview_id’ for each corresponding ‘website_session_id’.\n",
    "<img src=\"Images/7A-temp table.PNG\" width='50%' />\n",
    "Lastly, I left joined the ‘website_pageviews’ table to the temporary table to link the first pageview_id’s in the ‘first_pv’ column to their corresponding ‘pageview url’ column. An aggregate function on the ‘sessions_hitting_page’ column from the temporary table along with a group by for the ‘landing_page_url’ column yields the following result.\n",
    "<img src=\"Images/7B-sessions_hitting_page.PNG\" width='75%' />\n",
    "# Conclusion:\n",
    "My assumption was correct in that all traffic comes in through the homepage.\n",
    "Now, I should analyze its bounce rate to confirm the reason for the new landing page as well as an A/B split test to confirm which page improves the site’s performance.\n",
    "\n"
   ]
  },
  {
   "cell_type": "markdown",
   "metadata": {},
   "source": [
    "# LANDING PAGE PERFORMANCE & TESTING\n",
    "# Key Question 7:\n",
    "Since all of the sesssion volume traffic is directed to the '/home' page, and based on my initial findings of a new landing page being introduced on '2012-06-09', I'd like to know what the bounce rate was for the '/home' page before the new landing page was introduced?\n",
    "\n",
    "To analyze landing page performance and compare multiple pages, I again use temporary tables.\n",
    "Similiar to my previous query, I'll find the first pageview for the relevant sessions. \n",
    "\n",
    "--Step 1: Find the first ‘website_pageview_id’ for relevant sessions.\n",
    "<img src=\"Images/8A-firstpageviews.PNG\" width='50%' />\n",
    "\n",
    "--Step 2: Identifying the landing page of each session.<br>\n",
    "Next, I’ll bring in the landing page, like last time, but restrict to home only. It's redundant in this case, since all traffic is to the homepage anyway. This is still necessary as most websites will have more than just a single landing page. When I bring in the 'pageview_url' from 'website_pageviews' table I perform a left join on 'website_pageview_id' to 'min_pageview_id' as this is the most pertinent data to match as it corresponds directly to the 'pageview_url' column in the 'website_pageviews' table.\n",
    "<img src=\"Images/8B-sessions_with_home_landing_page.PNG\" width='75%' />\n",
    "\n",
    "--Step 3: Counting pageviews for each session, to identify \"bounces\".<br>\n",
    "I'm taking the website_session_id's and landing_page from the 'sessions_w_home_landing_page' table and performing a left join with the original 'website_pageviews' table on the 'website_session_id' column. This will allow me to identify which 'website_session_id' had multiple pageviews and which sessions only had one pageview. \n",
    "<img src=\"Images/8C2-behind the scenes_before aggregation.PNG\" width='70%' />\n",
    "Then, I'll perform a group by on 'website_session_id' from the 'website_sessions' table' and using the ‘count’ function on the ‘website_pageview_id’ column which will highlight the difference in session activity. The following image shows which sessions had multiple pageviews and the sessions that only had a single pageview.\n",
    "<img src=\"Images/8C3-without_bounced_sessions.PNG\" width='70%' />\n",
    "\n",
    "--Step 4: Summarizing by counting total sessions and bounced sessions.<br>\n",
    "Lastly, to get a table of 'bounced_sessions' I'll limit the table to just show bounced sessions by assigning the aggregated metric used for 'website_session_id' equal to 1 in the 'having' clause. The following image shows a count of pageviews per session that limits it to just 'bounced_sessions'.\n",
    "<img src=\"Images/8C-bounced_sessions.PNG\" width='70%' />\n",
    "By preserving the website sessions id's in the 'sessions_w_home_landing_page' table and left joining the 'bounced_sessions' table it becomes clear that the 'null' values present in the image below represent non-bounced sessions whereas sessions that appear visible are the bounced sessions that are being matched through the left join. \n",
    "<img src=\"Images/8D-showing_bounced_vs_non_bounced_sessions.PNG\" width='70%' />\n",
    "RED: Bounced Session<br>\n",
    "GREEN: Non-bounced Session\n",
    "\n",
    "At this stage, I'll perform the aggregation fuction 'count' on both ‘website_session_id’ columns from the 'bounced_sessions' table and 'sessions_w_home_landing_page' table and and include the conversion rate for the 'home' page\n",
    "<img src=\"Images/8E-Bounce_rate_landing_page.PNG\" width='75%' />\n",
    "# Conclusion:\n",
    "At almost 60% the bounce rate for the home page appears high, but it's near the upper end of the average range compared to industry standards. Nonetheless, this should be high quality traffic considering this is paid search through the 'nonbrand' ‘gsearch’ campaign. "
   ]
  }
 ],
 "metadata": {
  "kernelspec": {
   "display_name": "Python 3",
   "language": "python",
   "name": "python3"
  },
  "language_info": {
   "codemirror_mode": {
    "name": "ipython",
    "version": 3
   },
   "file_extension": ".py",
   "mimetype": "text/x-python",
   "name": "python",
   "nbconvert_exporter": "python",
   "pygments_lexer": "ipython3",
   "version": "3.8.5"
  }
 },
 "nbformat": 4,
 "nbformat_minor": 4
}
