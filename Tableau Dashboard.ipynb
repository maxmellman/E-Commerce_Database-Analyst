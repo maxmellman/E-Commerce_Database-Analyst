{
 "cells": [
  {
   "cell_type": "markdown",
   "metadata": {},
   "source": [
    "# Tableau Profile Link\n",
    "You can follow along using my Tableau Dashboard for this analysis here:<a href=\"https://public.tableau.com/profile/max53497276#!/\"> Tableau Profile for Max Mellman</a>\n",
    "\n",
    "Titled: \"Web E-commerce Database Analyst\""
   ]
  }
 ],
 "metadata": {
  "kernelspec": {
   "display_name": "Python 3",
   "language": "python",
   "name": "python3"
  },
  "language_info": {
   "codemirror_mode": {
    "name": "ipython",
    "version": 3
   },
   "file_extension": ".py",
   "mimetype": "text/x-python",
   "name": "python",
   "nbconvert_exporter": "python",
   "pygments_lexer": "ipython3",
   "version": "3.8.5"
  }
 },
 "nbformat": 4,
 "nbformat_minor": 4
}
