{
 "cells": [
  {
   "cell_type": "markdown",
   "metadata": {},
   "source": [
    "# Purpose\n",
    "Analyze and optimize the business’ marketing channels, website, and product portfolio.\n",
    "\n",
    "# Abstract\n",
    "E-commerce websites are in a constant state of change to deliver the best experience for their intended audience. These sites strive to optimize spend to drive quality web traffic and fine-tune the sales funnel for their products and services. \n",
    "These websites track performance using key performance indicators (KPI) to measure the sites ability to drive sales and increase return of investment (ROI). In this analysis, I aimed to examine the sites performance to drive sales by identifying top traffic sources (paid search versus organic), tracking conversion rates (CVR), analyzing trends in CVR and web traffic hitting the site, using segmentation (desktop versus mobile) for bidding optimization, calculating bounce rates, and \n",
    "building conversion funnels for top landing pages.\n",
    "\n",
    "My analysis on the percentage change in conversion rates from month to month for the first year showed significant outliers prompting a deeper examination into the site’s SEO. From this trend analysis, a top-down approach of the website’s paid traffic and landing pages were analyzed to pinpoint any factors impacting these conversion rates from month to month.\n",
    "\n",
    "The addition of two new landing pages, ‘lander-1’ and ‘billing-2’ coincided with significant increases in CVR by 22% and 17% respectively for the months highlighted in the analysis. Multiple A/B tests were used to confirm the findings which saw an overall 5% decrease in bounce rate for traffic landing on ‘lander-1’ and a ‘17%’ increase in click-through rate for the ‘billing-2’ page leading to a lift of $8.62 of revenue per billing page session.   \n",
    "\n",
    "My data insights revealed the cause and effect relationship between the competitive and elusive landscape of the e-commerce environment and a website’s inherent need to adapt their strategies for their products and services and find those consumers who will derive the most benefit.\n"
   ]
  }
 ],
 "metadata": {
  "kernelspec": {
   "display_name": "Python 3",
   "language": "python",
   "name": "python3"
  },
  "language_info": {
   "codemirror_mode": {
    "name": "ipython",
    "version": 3
   },
   "file_extension": ".py",
   "mimetype": "text/x-python",
   "name": "python",
   "nbconvert_exporter": "python",
   "pygments_lexer": "ipython3",
   "version": "3.8.5"
  }
 },
 "nbformat": 4,
 "nbformat_minor": 4
}
